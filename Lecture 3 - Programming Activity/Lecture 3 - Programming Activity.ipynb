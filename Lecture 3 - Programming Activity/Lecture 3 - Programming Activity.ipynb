{
 "cells": [
  {
   "cell_type": "markdown",
   "metadata": {},
   "source": [
    "## Lecture 3 - Programming Activity\n",
    "\n",
    "### Activity 1 - Write a function that takes a filename as input.\n",
    "\n",
    "You will be using the **bill_of_rights.txt** located in the **data** folder for this activity. Write a function that takes the filename as input and finds the total number of lines, words and most frequent word in the file and writes these statistics into a file named **‘stats.txt’**."
   ]
  },
  {
   "cell_type": "code",
   "execution_count": 7,
   "metadata": {},
   "outputs": [
    {
     "name": "stdout",
     "output_type": "stream",
     "text": [
      "Most common word in the file:  the\n",
      "Number of lines in the file:  54\n",
      "Number of words in the file:  498\n"
     ]
    }
   ],
   "source": [
    "## Start Code\n",
    "import numpy as np\n",
    "\n",
    "filename= 'data/bill_of_rights.txt'\n",
    "outputfile = 'data/bill_of_rights_stats.txt'\n",
    "\n",
    "def data_statistics(filename,outputFile):\n",
    "    with open(filename, \"r\")as f:\n",
    "        countlines = f.readlines()\n",
    "\n",
    "    with open(filename, \"r\")as f:\n",
    "        countWords = f.read()\n",
    "        countWords = countWords.split()\n",
    "        most_common_word = max(set(countWords), key=countWords.count)\n",
    "        print(\"Most common word in the file: \", most_common_word)\n",
    "        print(\"Number of lines in the file: \", len(countlines))\n",
    "        print(\"Number of words in the file: \", len(countWords))\n",
    "    with open(outputFile, \"w\") as f:\n",
    "        f.write(\"Most common word in the file: \" + most_common_word + \"\\n\")\n",
    "        f.write(\"Number of lines in the file: \" + str(len(countlines)) + \"\\n\")\n",
    "        f.write(\"Number of words in the file: \" + str(len(countWords)) + \"\\n\")\n",
    "    \n",
    "infile= 'data/bill_of_rights.txt'\n",
    "outfile = 'data/bill_of_rights_stats.txt'\n",
    "\n",
    "data_statistics(infile, outfile)\n",
    "\n",
    "## End Code"
   ]
  },
  {
   "cell_type": "markdown",
   "metadata": {},
   "source": [
    "### Activity 2 - Parse a file to produce a list\n",
    "\n",
    "You will be using the file **gps.csv** located in the **data** folder for this activity. Parse the file and produce a list of coordinates (**lat** and **lon**) along with the **unix timestamp** of their visit."
   ]
  },
  {
   "cell_type": "code",
   "execution_count": 8,
   "metadata": {},
   "outputs": [],
   "source": [
    "## Start Code\n",
    "\n",
    "\n",
    "\n",
    "## End Code"
   ]
  },
  {
   "cell_type": "markdown",
   "metadata": {},
   "source": [
    "### Activity 3\n",
    "\n",
    "1. Create an array of 5 values between 5 to 10 and remove 1,2,4 index value from the array. \n",
    "2. Create an empty array having 10 values and assign half values as 10 and half of them as 20.\n",
    "3. Write a function that takes as input a 2-D ndarray and scale the last row and column by 2.5."
   ]
  },
  {
   "cell_type": "code",
   "execution_count": 9,
   "metadata": {},
   "outputs": [
    {
     "name": "stdout",
     "output_type": "stream",
     "text": [
      "[ 5.    6.25  7.5   8.75 10.  ]\n",
      "[5.   8.75]\n",
      "Original array:\n",
      "[[1. 2. 3.]\n",
      " [4. 5. 6.]\n",
      " [7. 8. 9.]]\n",
      "Scaled array:\n",
      "[[ 1.   2.   3. ]\n",
      " [ 4.   5.   6. ]\n",
      " [17.5 20.  22.5]]\n"
     ]
    }
   ],
   "source": [
    "# Start Code\n",
    "import numpy as np\n",
    "store = np.linspace(5, 10, 5)\n",
    "print(store)\n",
    "store = np.delete(store, [1,2,4])  # Remove the element at index 0\n",
    "print(store)\n",
    "\n",
    "tens = np.empty((10))\n",
    "tens[0:4] = 10\n",
    "tens[5:10] = 20\n",
    "tens\n",
    "\n",
    "def scale_lastRow_2Darray(array, scale):\n",
    "    array_copy = array.copy()  # Create a copy of the array to avoid modifying the original\n",
    "    array_copy[-1] *= scale\n",
    "    return array_copy\n",
    "\n",
    "# Create a 2D array with float data type\n",
    "array = np.array([[1, 2, 3], [4, 5, 6], [7, 8, 9]], dtype=float)\n",
    "scalefix = 2.5\n",
    "scaled_array = scale_lastRow_2Darray(array, scalefix)\n",
    "print(\"Original array:\")    \n",
    "print(array)\n",
    "print(\"Scaled array:\")\n",
    "print(scaled_array)\n",
    "\n",
    "# End Code"
   ]
  },
  {
   "cell_type": "markdown",
   "metadata": {},
   "source": [
    "### Activity 4\n",
    "\n",
    "1. Write a function that takes a matrix as input and subtract the mean of each row of a matrix. \n",
    "2. Write a function to find the most frequent value in an array.\n",
    "3. Write a function which creates an  n×n  array with  (i,j) entry equal to  i+j.\n"
   ]
  },
  {
   "cell_type": "code",
   "execution_count": 10,
   "metadata": {},
   "outputs": [
    {
     "name": "stdout",
     "output_type": "stream",
     "text": [
      "Original array:\n",
      "[[1. 2. 3.]\n",
      " [4. 1. 8.]\n",
      " [8. 8. 1.]]\n",
      "Mean of each row:\n",
      "[2.         4.33333333 5.66666667]\n",
      "Most common value in the array:\n",
      "1.0\n",
      "Matrix with (i,j) entry equal to i+j:\n",
      "[[0 1 2 3]\n",
      " [1 2 3 4]\n",
      " [2 3 4 5]\n",
      " [3 4 5 6]]\n"
     ]
    }
   ],
   "source": [
    "# Start Code\n",
    "\n",
    "def mean_row_matrix(matrix):\n",
    "    return np.mean(matrix, axis=1)\n",
    "\n",
    "# Create a 2D array with float data type        \n",
    "matrix = np.array([[1.0, 2.0, 3.0], [4.0, 1.0, 8.0], [8.0, 8.0, 1.0]], dtype=float)\n",
    "mean_row = mean_row_matrix(matrix)\n",
    "print(\"Original array:\")\n",
    "print(matrix)\n",
    "print(\"Mean of each row:\")\n",
    "print(mean_row)\n",
    "\n",
    "def most_common_value(matrix):\n",
    "    unique, counts = np.unique(matrix, return_counts=True)\n",
    "    most_common = unique[np.argmax(counts)]\n",
    "    return most_common\n",
    "\n",
    "frequent_value = most_common_value(matrix)\n",
    "print(\"Most common value in the array:\")\n",
    "print(frequent_value)\n",
    "\n",
    "# Write a function which creates an  n×n  array with  (i,j) entry equal to  i+j.\n",
    "def create_matrix(n):\n",
    "    return np.fromfunction(lambda i, j: i + j, (n,n), dtype=int)\n",
    "\n",
    "matrixe = create_matrix(4)\n",
    "print(\"Matrix with (i,j) entry equal to i+j:\")\n",
    "print(matrixe)\n",
    "#End Code"
   ]
  },
  {
   "cell_type": "markdown",
   "metadata": {},
   "source": [
    "### Activity 5\n",
    "\n",
    "Using the ‘titanic_data_sample' using pandas.\n",
    "\n",
    "1. Find and print top 5 and bottom 5 rows from the data.\n",
    "2. Find the descriptive statistics of age and fare of all passengers.\n",
    "3. Extract passengers who age is below 25 and have survived.\n",
    "4. Extract the number of Female Passengers over 25 and in 1st class."
   ]
  },
  {
   "cell_type": "code",
   "execution_count": 22,
   "metadata": {
    "scrolled": true
   },
   "outputs": [
    {
     "name": "stdout",
     "output_type": "stream",
     "text": [
      "[['PassengerId', 'Survived', 'Pclass', 'Name', 'Sex', 'Age', 'SibSp', 'Parch', 'Ticket', 'Fare', 'Cabin', 'Embarked'], ['1', '0', '3', 'Braund, Mr. Owen Harris', 'male', '22', '1', '0', 'A/5 21171', '7.25', '', 'S'], ['2', '1', '1', 'Cumings, Mrs. John Bradley (Florence Briggs Thayer)', 'female', '38', '1', '0', 'PC 17599', '71.2833', 'C85', 'C'], ['3', '1', '3', 'Heikkinen, Miss. Laina', 'female', '26', '0', '0', 'STON/O2. 3101282', '7.925', '', 'S'], ['4', '1', '1', 'Futrelle, Mrs. Jacques Heath (Lily May Peel)', 'female', '35', '1', '0', '113803', '53.1', 'C123', 'S']]\n",
      "[['45', '1', '3', 'Devaney, Miss. Margaret Delia', 'female', '19', '0', '0', '330958', '7.8792', '', 'Q'], ['46', '0', '3', 'Rogers, Mr. William John', 'male', '', '0', '0', 'S.C./A.4. 23567', '8.05', '', 'S'], ['47', '0', '3', 'Lennon, Mr. Denis', 'male', '', '1', '0', '370371', '15.5', '', 'Q'], ['48', '1', '3', \"O'Driscoll, Miss. Bridget\", 'female', '', '0', '0', '14311', '7.75', '', 'Q'], ['49', '0', '3', 'Samaan, Mr. Youssef', 'male', '', '2', '0', '2662', '21.6792', '', 'C']]\n",
      "Young survivors:\n",
      "[['10', '1', '2', 'Nasser, Mrs. Nicholas (Adele Achem)', 'female', '14', '1', '0', '237736', '30.0708', '', 'C'], ['11', '1', '3', 'Sandstrom, Miss. Marguerite Rut', 'female', '4', '1', '1', 'PP 9549', '16.7', 'G6', 'S'], ['23', '1', '3', 'McGowan, Miss. Anna \"Annie\"', 'female', '15', '0', '0', '330923', '8.0292', '', 'Q'], ['40', '1', '3', 'Nicola-Yarred, Miss. Jamila', 'female', '14', '1', '0', '2651', '11.2417', '', 'C'], ['44', '1', '2', 'Laroche, Miss. Simonne Marie Anne Andree', 'female', '3', '1', '2', 'SC/Paris 2123', '41.5792', '', 'C'], ['45', '1', '3', 'Devaney, Miss. Margaret Delia', 'female', '19', '0', '0', '330958', '7.8792', '', 'Q']]\n",
      "survivors over 25 in 1st class: femal\n",
      "[['2', '1', '1', 'Cumings, Mrs. John Bradley (Florence Briggs Thayer)', 'female', '38', '1', '0', 'PC 17599', '71.2833', 'C85', 'C'], ['4', '1', '1', 'Futrelle, Mrs. Jacques Heath (Lily May Peel)', 'female', '35', '1', '0', '113803', '53.1', 'C123', 'S'], ['12', '1', '1', 'Bonnell, Miss. Elizabeth', 'female', '58', '0', '0', '113783', '26.55', 'C103', 'S']]\n",
      "Number\n",
      "3\n",
      "Ages of all passengers:\n",
      "[22.0, 38.0, 26.0, 35.0, 35.0, 54.0, 2.0, 27.0, 14.0, 4.0, 58.0, 20.0, 39.0, 14.0, 55.0, 2.0, 31.0, 35.0, 34.0, 15.0, 28.0, 8.0, 38.0, 19.0, 40.0, 66.0, 28.0, 42.0, 21.0, 18.0, 14.0, 40.0, 27.0, 3.0, 19.0]\n",
      "Fares of all passengers:\n",
      "[1.0, 1.0, 0.0, 1.0, 0.0, 0.0, 0.0, 3.0, 0.0, 1.0, 1.0, 0.0, 0.0, 1.0, 0.0, 0.0, 4.0, 0.0, 1.0, 0.0, 0.0, 0.0, 0.0, 0.0, 3.0, 1.0, 0.0, 3.0, 0.0, 0.0, 0.0, 1.0, 0.0, 0.0, 1.0, 1.0, 0.0, 0.0, 2.0, 1.0, 1.0, 1.0, 0.0, 1.0, 0.0, 0.0, 1.0, 0.0, 2.0]\n",
      "Mean age of all passengers:\n",
      "27.742857142857144\n",
      "Mean fare of all passengers:\n",
      "0.673469387755102\n",
      "Median age of all passengers:\n",
      "27.0\n",
      "Median fare of all passengers:\n",
      "0.0\n",
      "Standard deviation of age of all passengers:\n",
      "15.920055378839173\n",
      "Standard deviation of fare of all passengers:\n",
      "0.9559215043779893\n"
     ]
    }
   ],
   "source": [
    "# Start Code\n",
    "\n",
    "import csv\n",
    "input_file = open(\"data/titanic_data_sample.csv\", 'r')\n",
    "reader = csv.reader(input_file)\n",
    "reader = list(reader)\n",
    "# Read the first 5 lines of the file\n",
    "print(reader[0:5])\n",
    "# Read the last 5 lines of the file\n",
    "print(reader[-5:])\n",
    "input_file.close()\n",
    "\n",
    "#Extract passengers who age is below 25 and have survived.\n",
    "young_survivors = [row for row in reader[1:] if row[5].isdigit() and int(row[5]) < 25 and int(row[1]) == 1]\n",
    "print(\"Young survivors:\")\n",
    "print(young_survivors)\n",
    "\n",
    "#Extract the number of Female Passengers over 25 and in 1st class.\n",
    "female_passengers = [row for row in reader[1:] if row[5].isdigit() and int(row[5]) > 25 and int(row[2]) == 1 and row[4] ==\"female\"] \n",
    "print(\"survivors over 25 in 1st class: femal\" )\n",
    "print(female_passengers)\n",
    "print(\"Number\")  \n",
    "print(len(female_passengers))\n",
    "\n",
    "#Find the descriptive statistics of age and fare of all passengers\n",
    "ages = [float(row[5]) for row in reader[1:] if row[5].isdigit()]\n",
    "fares = [float(row[6]) for row in reader[1:] if row[6].isdigit()]\n",
    "print(\"Ages of all passengers:\")\n",
    "print(ages)\n",
    "print(\"Fares of all passengers:\")\n",
    "print(fares)\n",
    "print(\"Mean age of all passengers:\")\n",
    "print(np.mean(ages))\n",
    "print(\"Mean fare of all passengers:\")\n",
    "print(np.mean(fares))\n",
    "print(\"Median age of all passengers:\")\n",
    "print(np.median(ages))\n",
    "print(\"Median fare of all passengers:\")\n",
    "print(np.median(fares))\n",
    "print(\"Standard deviation of age of all passengers:\")  \n",
    "print(np.std(ages))\n",
    "print(\"Standard deviation of fare of all passengers:\")\n",
    "print(np.std(fares))\n",
    "# Create a new CSV file with the extracted data\n",
    "\n",
    "\n",
    "\n",
    "\n",
    "# End Code"
   ]
  }
 ],
 "metadata": {
  "kernelspec": {
   "display_name": "Python 3",
   "language": "python",
   "name": "python3"
  },
  "language_info": {
   "codemirror_mode": {
    "name": "ipython",
    "version": 3
   },
   "file_extension": ".py",
   "mimetype": "text/x-python",
   "name": "python",
   "nbconvert_exporter": "python",
   "pygments_lexer": "ipython3",
   "version": "3.12.1"
  }
 },
 "nbformat": 4,
 "nbformat_minor": 4
}
