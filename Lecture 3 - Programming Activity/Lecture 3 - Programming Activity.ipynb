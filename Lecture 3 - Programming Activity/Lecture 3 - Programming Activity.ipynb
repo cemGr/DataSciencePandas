{
 "cells": [
  {
   "cell_type": "markdown",
   "metadata": {},
   "source": [
    "## Lecture 3 - Programming Activity\n",
    "\n",
    "### Activity 1 - Write a function that takes a filename as input.\n",
    "\n",
    "You will be using the **bill_of_rights.txt** located in the **data** folder for this activity. Write a function that takes the filename as input and finds the total number of lines, words and most frequent word in the file and writes these statistics into a file named **‘stats.txt’**."
   ]
  },
  {
   "cell_type": "code",
   "execution_count": null,
   "metadata": {},
   "outputs": [],
   "source": [
    "## Start Code\n",
    "import numpy as np\n",
    "\n",
    "def get_data(filename,outputFile):\n",
    "    data = open(filename)\n",
    "    data.\n",
    "\n",
    "\n",
    "file= 'data/bill_of_rights.txt'\n",
    "outputfile = 'data/bill_of_rights_stats.txt'\n",
    "## End Code"
   ]
  },
  {
   "cell_type": "markdown",
   "metadata": {},
   "source": [
    "### Activity 2 - Parse a file to produce a list\n",
    "\n",
    "You will be using the file **gps.csv** located in the **data** folder for this activity. Parse the file and produce a list of coordinates (**lat** and **lon**) along with the **unix timestamp** of their visit."
   ]
  },
  {
   "cell_type": "code",
   "execution_count": null,
   "metadata": {},
   "outputs": [],
   "source": [
    "## Start Code\n",
    "\n",
    "\n",
    "\n",
    "## End Code"
   ]
  },
  {
   "cell_type": "markdown",
   "metadata": {},
   "source": [
    "### Activity 3\n",
    "\n",
    "1. Create an array of 5 values between 5 to 10 and remove 1,2,4 index value from the array. \n",
    "2. Create an empty array having 10 values and assign half values as 10 and half of them as 20.\n",
    "3. Write a function that takes as input a 2-D ndarray and scale the last row and column by 2.5."
   ]
  },
  {
   "cell_type": "code",
   "execution_count": null,
   "metadata": {},
   "outputs": [],
   "source": [
    "# Start Code\n",
    "\n",
    "\n",
    "\n",
    "# End Code"
   ]
  },
  {
   "cell_type": "markdown",
   "metadata": {},
   "source": [
    "### Activity 4\n",
    "\n",
    "1. Write a function that takes a matrix as input and subtract the mean of each row of a matrix. \n",
    "2. Write a function to find the most frequent value in an array.\n",
    "3. Write a function which creates an  n×n  array with  (i,j) entry equal to  i+j.\n"
   ]
  },
  {
   "cell_type": "code",
   "execution_count": null,
   "metadata": {},
   "outputs": [],
   "source": [
    "# Start Code\n",
    "\n",
    "\n",
    "\n",
    "#End Code"
   ]
  },
  {
   "cell_type": "markdown",
   "metadata": {},
   "source": [
    "### Activity 5\n",
    "\n",
    "Using the ‘titanic_data_sample' using pandas.\n",
    "\n",
    "1. Find and print top 5 and bottom 5 rows from the data.\n",
    "2. Find the descriptive statistics of age and fare of all passengers.\n",
    "3. Extract passengers who age is below 25 and have survived.\n",
    "4. Extract the number of Female Passengers over 25 and in 1st class."
   ]
  },
  {
   "cell_type": "code",
   "execution_count": null,
   "metadata": {
    "scrolled": true
   },
   "outputs": [],
   "source": [
    "# Start Code\n",
    "\n",
    "\n",
    "\n",
    "# End Code"
   ]
  }
 ],
 "metadata": {
  "kernelspec": {
   "display_name": "Python 3",
   "language": "python",
   "name": "python3"
  },
  "language_info": {
   "codemirror_mode": {
    "name": "ipython",
    "version": 3
   },
   "file_extension": ".py",
   "mimetype": "text/x-python",
   "name": "python",
   "nbconvert_exporter": "python",
   "pygments_lexer": "ipython3",
   "version": "3.12.1"
  }
 },
 "nbformat": 4,
 "nbformat_minor": 4
}
